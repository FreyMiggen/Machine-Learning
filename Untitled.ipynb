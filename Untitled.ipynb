{
 "cells": [
  {
   "cell_type": "code",
   "execution_count": 1,
   "id": "11c7435e-f903-4979-8b74-aa615109ecb1",
   "metadata": {},
   "outputs": [],
   "source": [
    "import numpy as np\n",
    "import pandas as pd\n",
    "\n",
    "import tensorflow as tf\n",
    "\n",
    "from tensorflow import feature_column\n",
    "from tensorflow.keras import layers\n",
    "from sklearn.model_selection import train_test_split"
   ]
  },
  {
   "cell_type": "code",
   "execution_count": 61,
   "id": "f17e4aff-1fee-4c10-84ca-4ad9923e964a",
   "metadata": {},
   "outputs": [],
   "source": [
    "import pathlib\n",
    "csv_file = 'D:/Machine Learning/GG Crash Course/datasets/petfinder-mini/petfinder-mini.csv'\n",
    "dataframe=pd.read_csv(csv_file)"
   ]
  },
  {
   "cell_type": "code",
   "execution_count": 38,
   "id": "df111079-c7ae-4679-ba6c-e35265060e0e",
   "metadata": {},
   "outputs": [
    {
     "data": {
      "text/html": [
       "<div>\n",
       "<style scoped>\n",
       "    .dataframe tbody tr th:only-of-type {\n",
       "        vertical-align: middle;\n",
       "    }\n",
       "\n",
       "    .dataframe tbody tr th {\n",
       "        vertical-align: top;\n",
       "    }\n",
       "\n",
       "    .dataframe thead th {\n",
       "        text-align: right;\n",
       "    }\n",
       "</style>\n",
       "<table border=\"1\" class=\"dataframe\">\n",
       "  <thead>\n",
       "    <tr style=\"text-align: right;\">\n",
       "      <th></th>\n",
       "      <th>Type</th>\n",
       "      <th>Age</th>\n",
       "      <th>Breed1</th>\n",
       "      <th>Gender</th>\n",
       "      <th>Color1</th>\n",
       "      <th>Color2</th>\n",
       "      <th>MaturitySize</th>\n",
       "      <th>FurLength</th>\n",
       "      <th>Vaccinated</th>\n",
       "      <th>Sterilized</th>\n",
       "      <th>Health</th>\n",
       "      <th>Fee</th>\n",
       "      <th>Description</th>\n",
       "      <th>PhotoAmt</th>\n",
       "      <th>AdoptionSpeed</th>\n",
       "    </tr>\n",
       "  </thead>\n",
       "  <tbody>\n",
       "    <tr>\n",
       "      <th>0</th>\n",
       "      <td>Cat</td>\n",
       "      <td>3</td>\n",
       "      <td>Tabby</td>\n",
       "      <td>Male</td>\n",
       "      <td>Black</td>\n",
       "      <td>White</td>\n",
       "      <td>Small</td>\n",
       "      <td>Short</td>\n",
       "      <td>No</td>\n",
       "      <td>No</td>\n",
       "      <td>Healthy</td>\n",
       "      <td>100</td>\n",
       "      <td>Nibble is a 3+ month old ball of cuteness. He ...</td>\n",
       "      <td>1</td>\n",
       "      <td>2</td>\n",
       "    </tr>\n",
       "    <tr>\n",
       "      <th>1</th>\n",
       "      <td>Cat</td>\n",
       "      <td>1</td>\n",
       "      <td>Domestic Medium Hair</td>\n",
       "      <td>Male</td>\n",
       "      <td>Black</td>\n",
       "      <td>Brown</td>\n",
       "      <td>Medium</td>\n",
       "      <td>Medium</td>\n",
       "      <td>Not Sure</td>\n",
       "      <td>Not Sure</td>\n",
       "      <td>Healthy</td>\n",
       "      <td>0</td>\n",
       "      <td>I just found it alone yesterday near my apartm...</td>\n",
       "      <td>2</td>\n",
       "      <td>0</td>\n",
       "    </tr>\n",
       "    <tr>\n",
       "      <th>2</th>\n",
       "      <td>Dog</td>\n",
       "      <td>1</td>\n",
       "      <td>Mixed Breed</td>\n",
       "      <td>Male</td>\n",
       "      <td>Brown</td>\n",
       "      <td>White</td>\n",
       "      <td>Medium</td>\n",
       "      <td>Medium</td>\n",
       "      <td>Yes</td>\n",
       "      <td>No</td>\n",
       "      <td>Healthy</td>\n",
       "      <td>0</td>\n",
       "      <td>Their pregnant mother was dumped by her irresp...</td>\n",
       "      <td>7</td>\n",
       "      <td>3</td>\n",
       "    </tr>\n",
       "    <tr>\n",
       "      <th>3</th>\n",
       "      <td>Dog</td>\n",
       "      <td>4</td>\n",
       "      <td>Mixed Breed</td>\n",
       "      <td>Female</td>\n",
       "      <td>Black</td>\n",
       "      <td>Brown</td>\n",
       "      <td>Medium</td>\n",
       "      <td>Short</td>\n",
       "      <td>Yes</td>\n",
       "      <td>No</td>\n",
       "      <td>Healthy</td>\n",
       "      <td>150</td>\n",
       "      <td>Good guard dog, very alert, active, obedience ...</td>\n",
       "      <td>8</td>\n",
       "      <td>2</td>\n",
       "    </tr>\n",
       "    <tr>\n",
       "      <th>4</th>\n",
       "      <td>Dog</td>\n",
       "      <td>1</td>\n",
       "      <td>Mixed Breed</td>\n",
       "      <td>Male</td>\n",
       "      <td>Black</td>\n",
       "      <td>No Color</td>\n",
       "      <td>Medium</td>\n",
       "      <td>Short</td>\n",
       "      <td>No</td>\n",
       "      <td>No</td>\n",
       "      <td>Healthy</td>\n",
       "      <td>0</td>\n",
       "      <td>This handsome yet cute boy is up for adoption....</td>\n",
       "      <td>3</td>\n",
       "      <td>2</td>\n",
       "    </tr>\n",
       "  </tbody>\n",
       "</table>\n",
       "</div>"
      ],
      "text/plain": [
       "  Type  Age                Breed1  Gender Color1    Color2 MaturitySize  \\\n",
       "0  Cat    3                 Tabby    Male  Black     White        Small   \n",
       "1  Cat    1  Domestic Medium Hair    Male  Black     Brown       Medium   \n",
       "2  Dog    1           Mixed Breed    Male  Brown     White       Medium   \n",
       "3  Dog    4           Mixed Breed  Female  Black     Brown       Medium   \n",
       "4  Dog    1           Mixed Breed    Male  Black  No Color       Medium   \n",
       "\n",
       "  FurLength Vaccinated Sterilized   Health  Fee  \\\n",
       "0     Short         No         No  Healthy  100   \n",
       "1    Medium   Not Sure   Not Sure  Healthy    0   \n",
       "2    Medium        Yes         No  Healthy    0   \n",
       "3     Short        Yes         No  Healthy  150   \n",
       "4     Short         No         No  Healthy    0   \n",
       "\n",
       "                                         Description  PhotoAmt  AdoptionSpeed  \n",
       "0  Nibble is a 3+ month old ball of cuteness. He ...         1              2  \n",
       "1  I just found it alone yesterday near my apartm...         2              0  \n",
       "2  Their pregnant mother was dumped by her irresp...         7              3  \n",
       "3  Good guard dog, very alert, active, obedience ...         8              2  \n",
       "4  This handsome yet cute boy is up for adoption....         3              2  "
      ]
     },
     "execution_count": 38,
     "metadata": {},
     "output_type": "execute_result"
    }
   ],
   "source": [
    "dataframe.head()"
   ]
  },
  {
   "cell_type": "code",
   "execution_count": 62,
   "id": "673eb9c3-19a1-42b1-a602-7f03e63154aa",
   "metadata": {},
   "outputs": [],
   "source": [
    "dataframe['target'] = np.where(dataframe['AdoptionSpeed']==4, 0, 1)\n",
    "dataframe=dataframe.drop(columns=['Description','AdoptionSpeed'])"
   ]
  },
  {
   "cell_type": "code",
   "execution_count": 40,
   "id": "8d9cfec2-53f2-4346-a7d1-72cf364030d3",
   "metadata": {},
   "outputs": [
    {
     "data": {
      "text/plain": [
       "166"
      ]
     },
     "execution_count": 40,
     "metadata": {},
     "output_type": "execute_result"
    }
   ],
   "source": [
    "dataframe['Breed1'].unique().size"
   ]
  },
  {
   "cell_type": "code",
   "execution_count": 10,
   "id": "57ed5307-f5ce-4165-b010-64ca17428784",
   "metadata": {},
   "outputs": [
    {
     "data": {
      "text/plain": [
       "array(['Small', 'Medium', 'Large'], dtype=object)"
      ]
     },
     "execution_count": 10,
     "metadata": {},
     "output_type": "execute_result"
    }
   ],
   "source": [
    "dataframe['MaturitySize'].unique()"
   ]
  },
  {
   "cell_type": "code",
   "execution_count": 41,
   "id": "b23431d0-3202-4313-a43a-d598d5c609f9",
   "metadata": {},
   "outputs": [],
   "source": [
    "feature_column=list()\n",
    "# Using one-hot coding feature column for animal type, MaturitySize\n",
    "animal_type=tf.feature_column.categorical_column_with_vocabulary_list(\n",
    "    'Type',['Cat','Dog'])\n",
    "animal_type_one_hot = tf.feature_column.indicator_column(animal_type)\n",
    "\n",
    "maturity_type=tf.feature_column.categorical_column_with_vocabulary_list(\n",
    "    'MaturitySize',['Small','Medium','Large'])\n",
    "maturity_type_one_hot=tf.feature_column.indicator_column(maturity_type)\n",
    "\n",
    "age_numeric=tf.feature_column.numeric_column('Age')\n",
    "\n",
    "photo_numeric=tf.feature_column.numeric_column('PhotoAmt')\n",
    "feature_column.append(animal_type_one_hot)\n",
    "feature_column.append(maturity_type_one_hot)\n",
    "feature_column.append(age_numeric)\n",
    "feature_column.append(photo_numeric)\n",
    "    "
   ]
  },
  {
   "cell_type": "code",
   "execution_count": 42,
   "id": "97aa3321-a356-4a49-9543-ef3e68fe3983",
   "metadata": {},
   "outputs": [
    {
     "data": {
      "text/plain": [
       "<tf.Tensor: shape=(10, 7), dtype=float32, numpy=\n",
       "array([[ 3.,  1.,  0.,  0.,  1.,  1.,  0.],\n",
       "       [ 1.,  0.,  1.,  0.,  2.,  1.,  0.],\n",
       "       [ 1.,  0.,  1.,  0.,  7.,  0.,  1.],\n",
       "       [ 4.,  0.,  1.,  0.,  8.,  0.,  1.],\n",
       "       [ 1.,  0.,  1.,  0.,  3.,  0.,  1.],\n",
       "       [ 3.,  0.,  1.,  0.,  2.,  1.,  0.],\n",
       "       [12.,  0.,  1.,  0.,  3.,  1.,  0.],\n",
       "       [ 2.,  0.,  1.,  0.,  6.,  1.,  0.],\n",
       "       [12.,  0.,  1.,  0.,  2.,  1.,  0.],\n",
       "       [ 2.,  0.,  1.,  0.,  7.,  0.,  1.]], dtype=float32)>"
      ]
     },
     "execution_count": 42,
     "metadata": {},
     "output_type": "execute_result"
    }
   ],
   "source": [
    "#Take a batch of data to demonstrate how feature column transform original data\n",
    "#example_batch must stored in dict form\n",
    "sample=dataframe[:10]\n",
    "example_batch={name:np.array(value) for name,value in sample.items()}\n",
    "feature_layer=tf.keras.layers.DenseFeatures(feature_column)\n",
    "demo=feature_layer(example_batch)\n",
    "demo\n",
    "\n"
   ]
  },
  {
   "cell_type": "code",
   "execution_count": 63,
   "id": "936a2ef9-bd9c-4072-af80-2f2d2f4e7b5c",
   "metadata": {},
   "outputs": [],
   "source": [
    "#Using feature column in building a model\n",
    "\n",
    "#Split dataframe into test,validation, train\n",
    "\n",
    "train,test=train_test_split(dataframe,test_size=0.2)\n",
    "train,val=train_test_split(train,test_size=0.2)\n",
    "train=train[:1000]\n",
    "features={name:np.array(value) for name,value in train.items()}\n",
    "label=features.pop('target')\n"
   ]
  },
  {
   "cell_type": "code",
   "execution_count": 59,
   "id": "2a27685c-0c2b-47ef-8efe-c29f3f150a0f",
   "metadata": {},
   "outputs": [
    {
     "data": {
      "text/plain": [
       "dict"
      ]
     },
     "execution_count": 59,
     "metadata": {},
     "output_type": "execute_result"
    }
   ],
   "source": [
    "type(label)"
   ]
  },
  {
   "cell_type": "code",
   "execution_count": 28,
   "id": "a3792476-adcc-4cc8-aeca-1959e6ee47c9",
   "metadata": {},
   "outputs": [
    {
     "data": {
      "text/plain": [
       "5"
      ]
     },
     "execution_count": 28,
     "metadata": {},
     "output_type": "execute_result"
    }
   ],
   "source": [
    "dataframe['AdoptionSpeed'].unique().size"
   ]
  },
  {
   "cell_type": "code",
   "execution_count": 70,
   "id": "6c8eb754-1a52-4728-aa05-8101503334a8",
   "metadata": {},
   "outputs": [
    {
     "name": "stdout",
     "output_type": "stream",
     "text": [
      "Epoch 1/100\n",
      "WARNING:tensorflow:Layers in a Sequential model should only have a single input tensor. Received: inputs={'Type': <tf.Tensor 'IteratorGetNext:11' shape=(None,) dtype=string>, 'Age': <tf.Tensor 'IteratorGetNext:0' shape=(None,) dtype=int64>, 'Breed1': <tf.Tensor 'IteratorGetNext:1' shape=(None,) dtype=string>, 'Gender': <tf.Tensor 'IteratorGetNext:6' shape=(None,) dtype=string>, 'Color1': <tf.Tensor 'IteratorGetNext:2' shape=(None,) dtype=string>, 'Color2': <tf.Tensor 'IteratorGetNext:3' shape=(None,) dtype=string>, 'MaturitySize': <tf.Tensor 'IteratorGetNext:8' shape=(None,) dtype=string>, 'FurLength': <tf.Tensor 'IteratorGetNext:5' shape=(None,) dtype=string>, 'Vaccinated': <tf.Tensor 'IteratorGetNext:12' shape=(None,) dtype=string>, 'Sterilized': <tf.Tensor 'IteratorGetNext:10' shape=(None,) dtype=string>, 'Health': <tf.Tensor 'IteratorGetNext:7' shape=(None,) dtype=string>, 'Fee': <tf.Tensor 'IteratorGetNext:4' shape=(None,) dtype=int64>, 'PhotoAmt': <tf.Tensor 'IteratorGetNext:9' shape=(None,) dtype=int64>}. Consider rewriting this model with the Functional API.\n",
      "WARNING:tensorflow:Layers in a Sequential model should only have a single input tensor. Received: inputs={'Type': <tf.Tensor 'IteratorGetNext:11' shape=(None,) dtype=string>, 'Age': <tf.Tensor 'IteratorGetNext:0' shape=(None,) dtype=int64>, 'Breed1': <tf.Tensor 'IteratorGetNext:1' shape=(None,) dtype=string>, 'Gender': <tf.Tensor 'IteratorGetNext:6' shape=(None,) dtype=string>, 'Color1': <tf.Tensor 'IteratorGetNext:2' shape=(None,) dtype=string>, 'Color2': <tf.Tensor 'IteratorGetNext:3' shape=(None,) dtype=string>, 'MaturitySize': <tf.Tensor 'IteratorGetNext:8' shape=(None,) dtype=string>, 'FurLength': <tf.Tensor 'IteratorGetNext:5' shape=(None,) dtype=string>, 'Vaccinated': <tf.Tensor 'IteratorGetNext:12' shape=(None,) dtype=string>, 'Sterilized': <tf.Tensor 'IteratorGetNext:10' shape=(None,) dtype=string>, 'Health': <tf.Tensor 'IteratorGetNext:7' shape=(None,) dtype=string>, 'Fee': <tf.Tensor 'IteratorGetNext:4' shape=(None,) dtype=int64>, 'PhotoAmt': <tf.Tensor 'IteratorGetNext:9' shape=(None,) dtype=int64>}. Consider rewriting this model with the Functional API.\n"
     ]
    },
    {
     "name": "stderr",
     "output_type": "stream",
     "text": [
      "C:\\ProgramData\\Anaconda3\\envs\\tensor\\lib\\site-packages\\tensorflow\\python\\util\\dispatch.py:1082: UserWarning: \"`binary_crossentropy` received `from_logits=True`, but the `output` argument was produced by a sigmoid or softmax activation and thus does not represent logits. Was this intended?\"\n",
      "  return dispatch_target(*args, **kwargs)\n"
     ]
    },
    {
     "name": "stdout",
     "output_type": "stream",
     "text": [
      "32/32 [==============================] - 0s 1ms/step - loss: 0.6981 - accuracy: 0.6250\n",
      "Epoch 2/100\n",
      "32/32 [==============================] - 0s 901us/step - loss: 0.6660 - accuracy: 0.7030\n",
      "Epoch 3/100\n",
      "32/32 [==============================] - 0s 857us/step - loss: 0.6326 - accuracy: 0.7250\n",
      "Epoch 4/100\n",
      "32/32 [==============================] - 0s 901us/step - loss: 0.6157 - accuracy: 0.7250\n",
      "Epoch 5/100\n",
      "32/32 [==============================] - 0s 869us/step - loss: 0.5867 - accuracy: 0.7250\n",
      "Epoch 6/100\n",
      "32/32 [==============================] - 0s 869us/step - loss: 0.5654 - accuracy: 0.7250\n",
      "Epoch 7/100\n",
      "32/32 [==============================] - 0s 837us/step - loss: 0.5509 - accuracy: 0.7250\n",
      "Epoch 8/100\n",
      "32/32 [==============================] - 0s 933us/step - loss: 0.5468 - accuracy: 0.7250\n",
      "Epoch 9/100\n",
      "32/32 [==============================] - 0s 965us/step - loss: 0.5447 - accuracy: 0.7250\n",
      "Epoch 10/100\n",
      "32/32 [==============================] - 0s 965us/step - loss: 0.5421 - accuracy: 0.7240\n",
      "Epoch 11/100\n",
      "32/32 [==============================] - 0s 933us/step - loss: 0.5401 - accuracy: 0.7250\n",
      "Epoch 12/100\n",
      "32/32 [==============================] - 0s 901us/step - loss: 0.5414 - accuracy: 0.7250\n",
      "Epoch 13/100\n",
      "32/32 [==============================] - 0s 901us/step - loss: 0.5380 - accuracy: 0.7250\n",
      "Epoch 14/100\n",
      "32/32 [==============================] - 0s 869us/step - loss: 0.5378 - accuracy: 0.7250\n",
      "Epoch 15/100\n",
      "32/32 [==============================] - 0s 869us/step - loss: 0.5376 - accuracy: 0.7230\n",
      "Epoch 16/100\n",
      "32/32 [==============================] - 0s 965us/step - loss: 0.5365 - accuracy: 0.7270\n",
      "Epoch 17/100\n",
      "32/32 [==============================] - 0s 990us/step - loss: 0.5379 - accuracy: 0.7250\n",
      "Epoch 18/100\n",
      "32/32 [==============================] - 0s 933us/step - loss: 0.5365 - accuracy: 0.7250\n",
      "Epoch 19/100\n",
      "32/32 [==============================] - 0s 965us/step - loss: 0.5373 - accuracy: 0.7250\n",
      "Epoch 20/100\n",
      "32/32 [==============================] - 0s 965us/step - loss: 0.5409 - accuracy: 0.7230\n",
      "Epoch 21/100\n",
      "32/32 [==============================] - 0s 966us/step - loss: 0.5380 - accuracy: 0.7250\n",
      "Epoch 22/100\n",
      "32/32 [==============================] - 0s 965us/step - loss: 0.5351 - accuracy: 0.7240\n",
      "Epoch 23/100\n",
      "32/32 [==============================] - 0s 965us/step - loss: 0.5348 - accuracy: 0.7210\n",
      "Epoch 24/100\n",
      "32/32 [==============================] - 0s 965us/step - loss: 0.5373 - accuracy: 0.7230\n",
      "Epoch 25/100\n",
      "32/32 [==============================] - 0s 933us/step - loss: 0.5333 - accuracy: 0.7250\n",
      "Epoch 26/100\n",
      "32/32 [==============================] - 0s 943us/step - loss: 0.5348 - accuracy: 0.7250\n",
      "Epoch 27/100\n",
      "32/32 [==============================] - 0s 933us/step - loss: 0.5346 - accuracy: 0.7250\n",
      "Epoch 28/100\n",
      "32/32 [==============================] - 0s 836us/step - loss: 0.5335 - accuracy: 0.7320\n",
      "Epoch 29/100\n",
      "32/32 [==============================] - 0s 933us/step - loss: 0.5312 - accuracy: 0.7300\n",
      "Epoch 30/100\n",
      "32/32 [==============================] - 0s 965us/step - loss: 0.5347 - accuracy: 0.7240\n",
      "Epoch 31/100\n",
      "32/32 [==============================] - 0s 965us/step - loss: 0.5299 - accuracy: 0.7280\n",
      "Epoch 32/100\n",
      "32/32 [==============================] - 0s 965us/step - loss: 0.5329 - accuracy: 0.7260\n",
      "Epoch 33/100\n",
      "32/32 [==============================] - 0s 937us/step - loss: 0.5327 - accuracy: 0.7220\n",
      "Epoch 34/100\n",
      "32/32 [==============================] - 0s 901us/step - loss: 0.5302 - accuracy: 0.7320\n",
      "Epoch 35/100\n",
      "32/32 [==============================] - 0s 901us/step - loss: 0.5324 - accuracy: 0.7280\n",
      "Epoch 36/100\n",
      "32/32 [==============================] - 0s 933us/step - loss: 0.5314 - accuracy: 0.7280\n",
      "Epoch 37/100\n",
      "32/32 [==============================] - 0s 901us/step - loss: 0.5324 - accuracy: 0.7270\n",
      "Epoch 38/100\n",
      "32/32 [==============================] - 0s 965us/step - loss: 0.5308 - accuracy: 0.7220\n",
      "Epoch 39/100\n",
      "32/32 [==============================] - 0s 997us/step - loss: 0.5317 - accuracy: 0.7270\n",
      "Epoch 40/100\n",
      "32/32 [==============================] - 0s 965us/step - loss: 0.5325 - accuracy: 0.7250\n",
      "Epoch 41/100\n",
      "32/32 [==============================] - 0s 965us/step - loss: 0.5304 - accuracy: 0.7230\n",
      "Epoch 42/100\n",
      "32/32 [==============================] - 0s 1ms/step - loss: 0.5305 - accuracy: 0.7250\n",
      "Epoch 43/100\n",
      "32/32 [==============================] - 0s 1ms/step - loss: 0.5318 - accuracy: 0.7290\n",
      "Epoch 44/100\n",
      "32/32 [==============================] - 0s 997us/step - loss: 0.5296 - accuracy: 0.7320\n",
      "Epoch 45/100\n",
      "32/32 [==============================] - 0s 965us/step - loss: 0.5281 - accuracy: 0.7340\n",
      "Epoch 46/100\n",
      "32/32 [==============================] - 0s 965us/step - loss: 0.5295 - accuracy: 0.7270\n",
      "Epoch 47/100\n",
      "32/32 [==============================] - 0s 997us/step - loss: 0.5304 - accuracy: 0.7310\n",
      "Epoch 48/100\n",
      "32/32 [==============================] - 0s 933us/step - loss: 0.5281 - accuracy: 0.7340\n",
      "Epoch 49/100\n",
      "32/32 [==============================] - 0s 933us/step - loss: 0.5283 - accuracy: 0.7300\n",
      "Epoch 50/100\n",
      "32/32 [==============================] - 0s 1ms/step - loss: 0.5301 - accuracy: 0.7280\n",
      "Epoch 51/100\n",
      "32/32 [==============================] - 0s 933us/step - loss: 0.5370 - accuracy: 0.7120\n",
      "Epoch 52/100\n",
      "32/32 [==============================] - 0s 965us/step - loss: 0.5319 - accuracy: 0.7140\n",
      "Epoch 53/100\n",
      "32/32 [==============================] - 0s 965us/step - loss: 0.5288 - accuracy: 0.7250\n",
      "Epoch 54/100\n",
      "32/32 [==============================] - 0s 901us/step - loss: 0.5343 - accuracy: 0.7210\n",
      "Epoch 55/100\n",
      "32/32 [==============================] - 0s 965us/step - loss: 0.5317 - accuracy: 0.7290\n",
      "Epoch 56/100\n",
      "32/32 [==============================] - 0s 901us/step - loss: 0.5306 - accuracy: 0.7200\n",
      "Epoch 57/100\n",
      "32/32 [==============================] - 0s 933us/step - loss: 0.5308 - accuracy: 0.7250\n",
      "Epoch 58/100\n",
      "32/32 [==============================] - 0s 965us/step - loss: 0.5283 - accuracy: 0.7320\n",
      "Epoch 59/100\n",
      "32/32 [==============================] - 0s 933us/step - loss: 0.5274 - accuracy: 0.7370\n",
      "Epoch 60/100\n",
      "32/32 [==============================] - 0s 933us/step - loss: 0.5307 - accuracy: 0.7260\n",
      "Epoch 61/100\n",
      "32/32 [==============================] - 0s 933us/step - loss: 0.5302 - accuracy: 0.7210\n",
      "Epoch 62/100\n",
      "32/32 [==============================] - 0s 965us/step - loss: 0.5286 - accuracy: 0.7330\n",
      "Epoch 63/100\n",
      "32/32 [==============================] - 0s 933us/step - loss: 0.5275 - accuracy: 0.7320\n",
      "Epoch 64/100\n",
      "32/32 [==============================] - 0s 965us/step - loss: 0.5255 - accuracy: 0.7360\n",
      "Epoch 65/100\n",
      "32/32 [==============================] - 0s 997us/step - loss: 0.5271 - accuracy: 0.7260\n",
      "Epoch 66/100\n",
      "32/32 [==============================] - 0s 933us/step - loss: 0.5309 - accuracy: 0.7260\n",
      "Epoch 67/100\n",
      "32/32 [==============================] - 0s 974us/step - loss: 0.5292 - accuracy: 0.7200\n",
      "Epoch 68/100\n",
      "32/32 [==============================] - 0s 1ms/step - loss: 0.5276 - accuracy: 0.7380\n",
      "Epoch 69/100\n",
      "32/32 [==============================] - 0s 933us/step - loss: 0.5273 - accuracy: 0.7310\n",
      "Epoch 70/100\n",
      "32/32 [==============================] - 0s 998us/step - loss: 0.5250 - accuracy: 0.7410\n",
      "Epoch 71/100\n",
      "32/32 [==============================] - 0s 933us/step - loss: 0.5322 - accuracy: 0.7210\n",
      "Epoch 72/100\n",
      "32/32 [==============================] - 0s 965us/step - loss: 0.5274 - accuracy: 0.7340\n",
      "Epoch 73/100\n",
      "32/32 [==============================] - 0s 997us/step - loss: 0.5270 - accuracy: 0.7330\n",
      "Epoch 74/100\n",
      "32/32 [==============================] - 0s 984us/step - loss: 0.5268 - accuracy: 0.7300\n",
      "Epoch 75/100\n",
      "32/32 [==============================] - 0s 998us/step - loss: 0.5311 - accuracy: 0.7190\n",
      "Epoch 76/100\n",
      "32/32 [==============================] - 0s 1ms/step - loss: 0.5279 - accuracy: 0.7290\n",
      "Epoch 77/100\n",
      "32/32 [==============================] - 0s 1ms/step - loss: 0.5290 - accuracy: 0.7350\n",
      "Epoch 78/100\n",
      "32/32 [==============================] - 0s 1ms/step - loss: 0.5276 - accuracy: 0.7230\n",
      "Epoch 79/100\n",
      "32/32 [==============================] - 0s 1ms/step - loss: 0.5258 - accuracy: 0.7330\n",
      "Epoch 80/100\n",
      "32/32 [==============================] - 0s 979us/step - loss: 0.5259 - accuracy: 0.7280\n",
      "Epoch 81/100\n",
      "32/32 [==============================] - 0s 1ms/step - loss: 0.5274 - accuracy: 0.7380\n",
      "Epoch 82/100\n",
      "32/32 [==============================] - 0s 1ms/step - loss: 0.5262 - accuracy: 0.7300\n",
      "Epoch 83/100\n",
      "32/32 [==============================] - 0s 1ms/step - loss: 0.5271 - accuracy: 0.7320\n",
      "Epoch 84/100\n",
      "32/32 [==============================] - 0s 978us/step - loss: 0.5255 - accuracy: 0.7300\n",
      "Epoch 85/100\n",
      "32/32 [==============================] - 0s 933us/step - loss: 0.5292 - accuracy: 0.7310\n",
      "Epoch 86/100\n",
      "32/32 [==============================] - 0s 1ms/step - loss: 0.5277 - accuracy: 0.7250\n",
      "Epoch 87/100\n",
      "32/32 [==============================] - 0s 1ms/step - loss: 0.5270 - accuracy: 0.7250\n",
      "Epoch 88/100\n",
      "32/32 [==============================] - 0s 1ms/step - loss: 0.5277 - accuracy: 0.7390\n",
      "Epoch 89/100\n",
      "32/32 [==============================] - 0s 965us/step - loss: 0.5269 - accuracy: 0.7270\n",
      "Epoch 90/100\n",
      "32/32 [==============================] - 0s 933us/step - loss: 0.5270 - accuracy: 0.7310\n",
      "Epoch 91/100\n",
      "32/32 [==============================] - 0s 997us/step - loss: 0.5253 - accuracy: 0.7380\n",
      "Epoch 92/100\n",
      "32/32 [==============================] - 0s 965us/step - loss: 0.5270 - accuracy: 0.7330\n",
      "Epoch 93/100\n",
      "32/32 [==============================] - 0s 933us/step - loss: 0.5289 - accuracy: 0.7340\n",
      "Epoch 94/100\n",
      "32/32 [==============================] - 0s 997us/step - loss: 0.5281 - accuracy: 0.7270\n",
      "Epoch 95/100\n",
      "32/32 [==============================] - 0s 1ms/step - loss: 0.5260 - accuracy: 0.7380\n",
      "Epoch 96/100\n",
      "32/32 [==============================] - 0s 996us/step - loss: 0.5300 - accuracy: 0.7240\n",
      "Epoch 97/100\n",
      "32/32 [==============================] - 0s 1ms/step - loss: 0.5259 - accuracy: 0.7320\n",
      "Epoch 98/100\n",
      "32/32 [==============================] - 0s 965us/step - loss: 0.5277 - accuracy: 0.7330\n",
      "Epoch 99/100\n",
      "32/32 [==============================] - 0s 957us/step - loss: 0.5269 - accuracy: 0.7320\n",
      "Epoch 100/100\n",
      "32/32 [==============================] - 0s 933us/step - loss: 0.5271 - accuracy: 0.7330\n"
     ]
    },
    {
     "data": {
      "text/plain": [
       "<keras.callbacks.History at 0x17f8c6ebd60>"
      ]
     },
     "execution_count": 70,
     "metadata": {},
     "output_type": "execute_result"
    }
   ],
   "source": [
    "from tensorflow.keras.layers import Dense\n",
    "model=tf.keras.Sequential([\n",
    "            feature_layer,\n",
    "            Dense(10,activation='relu'),\n",
    "    Dense(5,activation='relu'),\n",
    "    \n",
    "            Dense(1,activation='sigmoid')\n",
    "])\n",
    "\n",
    "model.compile(optimizer=tf.keras.optimizers.Adam(lr=0.005),\n",
    "                loss=tf.keras.losses.BinaryCrossentropy(from_logits=True),\n",
    "              metrics=['accuracy']\n",
    "             )\n",
    "model.fit(x=features,y=label,epochs=100)\n"
   ]
  },
  {
   "cell_type": "code",
   "execution_count": null,
   "id": "e924a246-9080-4562-9259-09d3953e6729",
   "metadata": {},
   "outputs": [],
   "source": []
  }
 ],
 "metadata": {
  "kernelspec": {
   "display_name": "Python 3 (ipykernel)",
   "language": "python",
   "name": "python3"
  },
  "language_info": {
   "codemirror_mode": {
    "name": "ipython",
    "version": 3
   },
   "file_extension": ".py",
   "mimetype": "text/x-python",
   "name": "python",
   "nbconvert_exporter": "python",
   "pygments_lexer": "ipython3",
   "version": "3.9.12"
  }
 },
 "nbformat": 4,
 "nbformat_minor": 5
}
